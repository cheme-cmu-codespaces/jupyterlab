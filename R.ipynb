{
 "cells": [
  {
   "cell_type": "markdown",
   "id": "18947119-e70c-4a6e-aaa7-33e3591c6441",
   "metadata": {},
   "source": [
    "# Using R in a Jupyter Notebook"
   ]
  },
  {
   "cell_type": "code",
   "execution_count": null,
   "id": "c74e8c85-6cfc-4052-b181-e8fffb5ca2c3",
   "metadata": {},
   "outputs": [],
   "source": [
    "x <- seq(-pi,pi,0.1)\n",
    "plot(x, sin(x))"
   ]
  },
  {
   "cell_type": "code",
   "execution_count": null,
   "id": "be5d162d-b59b-4262-9de0-430c878ea02c",
   "metadata": {},
   "outputs": [],
   "source": []
  }
 ],
 "metadata": {
  "kernelspec": {
   "display_name": "R",
   "language": "R",
   "name": "ir"
  },
  "language_info": {
   "name": ""
  }
 },
 "nbformat": 4,
 "nbformat_minor": 5
}
