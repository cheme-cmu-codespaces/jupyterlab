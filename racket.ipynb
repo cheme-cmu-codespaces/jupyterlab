{
 "cells": [
  {
   "cell_type": "markdown",
   "id": "5a2413e8-f85e-4986-a755-43d8bcd20151",
   "metadata": {},
   "source": [
    "# Racket in Jupyter lab"
   ]
  },
  {
   "cell_type": "code",
   "execution_count": null,
   "id": "48c72e56-139c-45c7-aef8-a62b98fc5c59",
   "metadata": {},
   "outputs": [],
   "source": [
    "(printf \"Hello world!\")"
   ]
  },
  {
   "cell_type": "code",
   "execution_count": null,
   "id": "e4dff461-2253-4e5d-85db-a108c9d0004e",
   "metadata": {},
   "outputs": [],
   "source": [
    "(require pict)\n",
    "\n",
    "(define (checker p1 p2)\n",
    "  (let ([p12 (hc-append p1 p2)]\n",
    "        [p21 (hc-append p2 p1)])\n",
    "    (vc-append p12 p21)))\n",
    "\n",
    "(checker (colorize (filled-rectangle 10 10) \"red\")\n",
    "         (colorize (filled-rectangle 10 10) \"black\"))"
   ]
  },
  {
   "cell_type": "code",
   "execution_count": null,
   "id": "9cdab26f-2331-4adc-9e66-786447c9c2f6",
   "metadata": {},
   "outputs": [],
   "source": []
  }
 ],
 "metadata": {
  "kernelspec": {
   "display_name": "Racket",
   "language": "racket",
   "name": "racket"
  },
  "language_info": {
   "codemirror_mode": "scheme",
   "file_extension": ".rkt",
   "mimetype": "text/x-racket",
   "name": "Racket",
   "pygments_lexer": "racket",
   "version": "7.9"
  }
 },
 "nbformat": 4,
 "nbformat_minor": 5
}
