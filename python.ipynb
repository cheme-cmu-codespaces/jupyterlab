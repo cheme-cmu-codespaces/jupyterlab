{
 "cells": [
  {
   "cell_type": "markdown",
   "metadata": {},
   "source": [
    "Introduction to integration in Python\n",
    "====================================="
   ]
  },
  {
   "cell_type": "markdown",
   "metadata": {
    "id": "xErzRUTEGf03"
   },
   "source": [
    "# Estimating the volume of a solid\n",
    "\n"
   ]
  },
  {
   "cell_type": "markdown",
   "metadata": {
    "id": "Z9hCtPv9Gf04"
   },
   "source": [
    "We can use integrals to compute the volume of solids. If we know how the cross-sectional area of a solid varies in some direction, we simply evaluate the following integral:\n",
    "\n",
    "$\\int_{x0}^{x1} A(x) dx$\n",
    "\n",
    "For a sphere, we can derive:\n",
    "\n",
    "$A(x) = \\pi (1 - x^2)$\n",
    "\n"
   ]
  },
  {
   "cell_type": "code",
   "execution_count": 3,
   "metadata": {
    "colab": {
     "base_uri": "https://localhost:8080/"
    },
    "id": "07Oobx5mGf05",
    "outputId": "b9c4b342-566c-4435-8a5d-504850442b83"
   },
   "outputs": [
    {
     "name": "stdout",
     "output_type": "stream",
     "text": [
      "Approximate volume = 4.1888\n",
      "Exact volume = 4.1888\n"
     ]
    }
   ],
   "source": [
    "import numpy as np\n",
    "\n",
    "R = 1\n",
    "x = np.linspace(-R, R, 1500)\n",
    "A = np.pi * (1 - x**2)\n",
    "\n",
    "approx_V = np.trapz(A, x)\n",
    "exact_V = 4 / 3 * np.pi * R**3\n",
    "\n",
    "print(f'''Approximate volume = {approx_V:1.4f}\n",
    "Exact volume = {exact_V:1.4f}''')"
   ]
  },
  {
   "cell_type": "markdown",
   "metadata": {
    "id": "F5omdC_8Gf0_"
   },
   "source": [
    "With 50 points, the estimate is pretty good. Try increasing the number of points to improve the estimate.\n",
    "\n"
   ]
  },
  {
   "cell_type": "markdown",
   "metadata": {},
   "source": [
    "# Plotly"
   ]
  },
  {
   "cell_type": "code",
   "execution_count": 2,
   "metadata": {},
   "outputs": [
    {
     "ename": "ModuleNotFoundError",
     "evalue": "No module named 'plotly'",
     "output_type": "error",
     "traceback": [
      "\u001b[0;31m---------------------------------------------------------------------------\u001b[0m",
      "\u001b[0;31mModuleNotFoundError\u001b[0m                       Traceback (most recent call last)",
      "\u001b[0;32m/tmp/ipykernel_13142/3681727419.py\u001b[0m in \u001b[0;36m<module>\u001b[0;34m\u001b[0m\n\u001b[1;32m      1\u001b[0m \u001b[0;31m# x and y given as array_like objects\u001b[0m\u001b[0;34m\u001b[0m\u001b[0;34m\u001b[0m\u001b[0m\n\u001b[0;32m----> 2\u001b[0;31m \u001b[0;32mimport\u001b[0m \u001b[0mplotly\u001b[0m\u001b[0;34m.\u001b[0m\u001b[0mexpress\u001b[0m \u001b[0;32mas\u001b[0m \u001b[0mpx\u001b[0m\u001b[0;34m\u001b[0m\u001b[0;34m\u001b[0m\u001b[0m\n\u001b[0m\u001b[1;32m      3\u001b[0m \u001b[0mfig\u001b[0m \u001b[0;34m=\u001b[0m \u001b[0mpx\u001b[0m\u001b[0;34m.\u001b[0m\u001b[0mscatter\u001b[0m\u001b[0;34m(\u001b[0m\u001b[0mx\u001b[0m\u001b[0;34m=\u001b[0m\u001b[0;34m[\u001b[0m\u001b[0;36m0\u001b[0m\u001b[0;34m,\u001b[0m \u001b[0;36m1\u001b[0m\u001b[0;34m,\u001b[0m \u001b[0;36m2\u001b[0m\u001b[0;34m,\u001b[0m \u001b[0;36m3\u001b[0m\u001b[0;34m,\u001b[0m \u001b[0;36m4\u001b[0m\u001b[0;34m]\u001b[0m\u001b[0;34m,\u001b[0m \u001b[0my\u001b[0m\u001b[0;34m=\u001b[0m\u001b[0;34m[\u001b[0m\u001b[0;36m0\u001b[0m\u001b[0;34m,\u001b[0m \u001b[0;36m1\u001b[0m\u001b[0;34m,\u001b[0m \u001b[0;36m4\u001b[0m\u001b[0;34m,\u001b[0m \u001b[0;36m9\u001b[0m\u001b[0;34m,\u001b[0m \u001b[0;36m16\u001b[0m\u001b[0;34m]\u001b[0m\u001b[0;34m)\u001b[0m\u001b[0;34m\u001b[0m\u001b[0;34m\u001b[0m\u001b[0m\n\u001b[1;32m      4\u001b[0m \u001b[0mfig\u001b[0m\u001b[0;34m.\u001b[0m\u001b[0mshow\u001b[0m\u001b[0;34m(\u001b[0m\u001b[0;34m)\u001b[0m\u001b[0;34m\u001b[0m\u001b[0;34m\u001b[0m\u001b[0m\n",
      "\u001b[0;31mModuleNotFoundError\u001b[0m: No module named 'plotly'"
     ]
    }
   ],
   "source": [
    "# x and y given as array_like objects\n",
    "import plotly.express as px\n",
    "fig = px.scatter(x=[0, 1, 2, 3, 4], y=[0, 1, 4, 9, 16])\n",
    "fig.show()"
   ]
  },
  {
   "cell_type": "code",
   "execution_count": 1,
   "metadata": {},
   "outputs": [
    {
     "name": "stdout",
     "output_type": "stream",
     "text": [
      "      sv    caf           ca           cb           cc           cd\n",
      "0   1.05  10000  3458.360964  1060.846921  1683.884002  1898.454056\n",
      "1   1.10  10000  3535.060217  1064.777174  1613.298748  1893.431930\n",
      "2   1.15  10000  3609.119151  1067.786731  1547.517002  1887.788558\n",
      "3   1.20  10000  3680.713187  1069.974764  1486.076060  1881.617995\n",
      "4   1.25  10000  3750.000000  1071.428571  1428.571429  1875.000000\n",
      "5   1.30  10000  3817.121917  1072.225258  1374.647766  1868.002530\n",
      "6   1.35  10000  3882.207905  1072.433123  1323.991510  1860.683731\n",
      "7   1.40  10000  3945.375247  1072.112839  1276.324808  1853.093553\n",
      "8   1.45  10000  4006.730956  1071.318437  1231.400503  1845.275052\n",
      "9   1.50  10000  4066.372975  1070.098151  1188.997946  1837.265464\n",
      "10  1.55  10000  4124.391210  1068.495132  1148.919497  1829.097081\n",
      "11  1.60  10000  4180.868407  1066.548063  1110.987566  1820.797983\n",
      "12  1.65  10000  4235.880919  1064.291688  1075.042109  1812.392642\n",
      "13  1.70  10000  4289.499366  1061.757269  1040.938499  1803.902433\n",
      "14  1.75  10000  4341.789215  1058.972979  1008.545694  1795.346056\n",
      "15  1.80  10000  4392.811277  1055.964249   977.744675  1786.739899\n",
      "16  1.85  10000  4442.622157  1052.754066   948.427086  1778.098345\n",
      "17  1.90  10000  4491.274643  1049.363234   920.494065  1769.434028\n",
      "18  1.95  10000  4538.818050  1045.810610   893.855223  1760.758059\n"
     ]
    }
   ],
   "source": [
    "#  ___________________________________________________________________________\n",
    "#\n",
    "#  Pyomo: Python Optimization Modeling Objects\n",
    "#  Copyright (c) 2008-2022\n",
    "#  National Technology and Engineering Solutions of Sandia, LLC\n",
    "#  Under the terms of Contract DE-NA0003525 with National Technology and\n",
    "#  Engineering Solutions of Sandia, LLC, the U.S. Government retains certain\n",
    "#  rights in this software.\n",
    "#  This software is distributed under the 3-clause BSD License.\n",
    "#  ___________________________________________________________________________\n",
    "\"\"\"\n",
    "Continuously stirred tank reactor model, based on\n",
    "pyomo/examples/doc/pyomobook/nonlinear-ch/react_design/ReactorDesign.py\n",
    "\"\"\"\n",
    "import pandas as pd\n",
    "from pyomo.environ import (\n",
    "    ConcreteModel, Var, PositiveReals, Objective, Constraint, maximize,\n",
    "    SolverFactory\n",
    ")\n",
    "\n",
    "def reactor_design_model(data):\n",
    "    \n",
    "    # Create the concrete model\n",
    "    model = ConcreteModel()\n",
    "    \n",
    "    # Rate constants\n",
    "    model.k1 = Var(initialize = 5.0/6.0, within=PositiveReals) # min^-1\n",
    "    model.k2 = Var(initialize = 5.0/3.0, within=PositiveReals) # min^-1\n",
    "    model.k3 = Var(initialize = 1.0/6000.0, within=PositiveReals) # m^3/(gmol min)\n",
    "    model.k1.fixed = True\n",
    "    model.k2.fixed = True\n",
    "    model.k3.fixed = True\n",
    "    \n",
    "    # Inlet concentration of A, gmol/m^3\n",
    "    model.caf = Var(initialize = float(data['caf']), within=PositiveReals)\n",
    "    model.caf.fixed = True\n",
    "    \n",
    "\t# Space velocity (flowrate/volume)\n",
    "    model.sv = Var(initialize = float(data['sv']), within=PositiveReals)\n",
    "    model.sv.fixed = True\n",
    "    \n",
    "    # Outlet concentration of each component\n",
    "    model.ca = Var(initialize = 5000.0, within=PositiveReals) \n",
    "    model.cb = Var(initialize = 2000.0, within=PositiveReals) \n",
    "    model.cc = Var(initialize = 2000.0, within=PositiveReals) \n",
    "    model.cd = Var(initialize = 1000.0, within=PositiveReals)\n",
    "    \n",
    "    # Objective\n",
    "    model.obj = Objective(expr = model.cb, sense=maximize)\n",
    "    \n",
    "    # Constraints\n",
    "    model.ca_bal = Constraint(expr = (0 == model.sv * model.caf \\\n",
    "                     - model.sv * model.ca - model.k1 * model.ca \\\n",
    "                     -  2.0 * model.k3 * model.ca ** 2.0))\n",
    "    \n",
    "    model.cb_bal = Constraint(expr=(0 == -model.sv * model.cb \\\n",
    "                     + model.k1 * model.ca - model.k2 * model.cb))\n",
    "    \n",
    "    model.cc_bal = Constraint(expr=(0 == -model.sv * model.cc \\\n",
    "                     + model.k2 * model.cb))\n",
    "    \n",
    "    model.cd_bal = Constraint(expr=(0 == -model.sv * model.cd \\\n",
    "                     + model.k3 * model.ca ** 2.0))\n",
    "    \n",
    "    return model\n",
    "\n",
    "def main():\n",
    "    # For a range of sv values, return ca, cb, cc, and cd\n",
    "    results = []\n",
    "    sv_values = [1.0 + v * 0.05 for v in range(1, 20)]\n",
    "    caf = 10000\n",
    "    for sv in sv_values:\n",
    "        model = reactor_design_model({'caf': caf, 'sv': sv})\n",
    "        solver = SolverFactory('ipopt')\n",
    "        solver.solve(model)\n",
    "        results.append([sv, caf, model.ca(), model.cb(), model.cc(), model.cd()])\n",
    "    \n",
    "    results = pd.DataFrame(results, columns=['sv', 'caf', 'ca', 'cb', 'cc', 'cd'])\n",
    "    print(results)\n",
    "    \n",
    "\n",
    "main()"
   ]
  },
  {
   "cell_type": "code",
   "execution_count": null,
   "metadata": {},
   "outputs": [],
   "source": []
  }
 ],
 "metadata": {
  "colab": {
   "collapsed_sections": [],
   "name": "02-integration-1.ipynb",
   "provenance": [],
   "toc_visible": true
  },
  "interpreter": {
   "hash": "d4d1e4263499bec80672ea0156c357c1ee493ec2b1c70f0acce89fc37c4a6abe"
  },
  "kernelspec": {
   "display_name": "Python 3 (ipykernel)",
   "language": "python",
   "name": "python3"
  },
  "language_info": {
   "codemirror_mode": {
    "name": "ipython",
    "version": 3
   },
   "file_extension": ".py",
   "mimetype": "text/x-python",
   "name": "python",
   "nbconvert_exporter": "python",
   "pygments_lexer": "ipython3",
   "version": "3.9.7"
  },
  "org": {
   "KEYWORDS": "integration, trapz, cumtrapz, quad"
  }
 },
 "nbformat": 4,
 "nbformat_minor": 4
}
