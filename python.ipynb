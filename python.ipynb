{
 "cells": [
  {
   "cell_type": "markdown",
   "metadata": {},
   "source": [
    "Introduction to integration in Python\n",
    "====================================="
   ]
  },
  {
   "cell_type": "markdown",
   "metadata": {
    "id": "xErzRUTEGf03"
   },
   "source": [
    "# Estimating the volume of a solid\n",
    "\n"
   ]
  },
  {
   "cell_type": "markdown",
   "metadata": {
    "id": "Z9hCtPv9Gf04"
   },
   "source": [
    "We can use integrals to compute the volume of solids. If we know how the cross-sectional area of a solid varies in some direction, we simply evaluate the following integral:\n",
    "\n",
    "$\\int_{x0}^{x1} A(x) dx$\n",
    "\n",
    "For a sphere, we can derive:\n",
    "\n",
    "$A(x) = \\pi (1 - x^2)$\n",
    "\n"
   ]
  },
  {
   "cell_type": "code",
   "execution_count": null,
   "metadata": {
    "colab": {
     "base_uri": "https://localhost:8080/"
    },
    "id": "07Oobx5mGf05",
    "outputId": "b9c4b342-566c-4435-8a5d-504850442b83"
   },
   "outputs": [],
   "source": [
    "import numpy as np\n",
    "\n",
    "R = 1\n",
    "x = np.linspace(-R, R, 1500)\n",
    "A = np.pi * (1 - x**2)\n",
    "\n",
    "approx_V = np.trapz(A, x)\n",
    "exact_V = 4 / 3 * np.pi * R**3\n",
    "\n",
    "print(f'''Approximate volume = {approx_V:1.4f}\n",
    "Exact volume = {exact_V:1.4f}''')"
   ]
  },
  {
   "cell_type": "markdown",
   "metadata": {
    "id": "F5omdC_8Gf0_"
   },
   "source": [
    "With 50 points, the estimate is pretty good. Try increasing the number of points to improve the estimate.\n",
    "\n"
   ]
  },
  {
   "cell_type": "markdown",
   "metadata": {},
   "source": [
    "# Plotly"
   ]
  },
  {
   "cell_type": "code",
   "execution_count": null,
   "metadata": {},
   "outputs": [],
   "source": [
    "# x and y given as array_like objects\n",
    "import plotly.express as px\n",
    "fig = px.scatter(x=[0, 1, 2, 3, 4], y=[0, 1, 4, 9, 16])\n",
    "fig.show()"
   ]
  },
  {
   "cell_type": "markdown",
   "metadata": {},
   "source": [
    "# Pyomo in a Codespace"
   ]
  },
  {
   "cell_type": "code",
   "execution_count": null,
   "metadata": {},
   "outputs": [],
   "source": [
    "#  ___________________________________________________________________________\n",
    "#\n",
    "#  Pyomo: Python Optimization Modeling Objects\n",
    "#  Copyright (c) 2008-2022\n",
    "#  National Technology and Engineering Solutions of Sandia, LLC\n",
    "#  Under the terms of Contract DE-NA0003525 with National Technology and\n",
    "#  Engineering Solutions of Sandia, LLC, the U.S. Government retains certain\n",
    "#  rights in this software.\n",
    "#  This software is distributed under the 3-clause BSD License.\n",
    "#  ___________________________________________________________________________\n",
    "\"\"\"\n",
    "Continuously stirred tank reactor model, based on\n",
    "pyomo/examples/doc/pyomobook/nonlinear-ch/react_design/ReactorDesign.py\n",
    "\"\"\"\n",
    "import pandas as pd\n",
    "from pyomo.environ import (\n",
    "    ConcreteModel, Var, PositiveReals, Objective, Constraint, maximize,\n",
    "    SolverFactory\n",
    ")\n",
    "\n",
    "def reactor_design_model(data):\n",
    "    \n",
    "    # Create the concrete model\n",
    "    model = ConcreteModel()\n",
    "    \n",
    "    # Rate constants\n",
    "    model.k1 = Var(initialize = 5.0/6.0, within=PositiveReals) # min^-1\n",
    "    model.k2 = Var(initialize = 5.0/3.0, within=PositiveReals) # min^-1\n",
    "    model.k3 = Var(initialize = 1.0/6000.0, within=PositiveReals) # m^3/(gmol min)\n",
    "    model.k1.fixed = True\n",
    "    model.k2.fixed = True\n",
    "    model.k3.fixed = True\n",
    "    \n",
    "    # Inlet concentration of A, gmol/m^3\n",
    "    model.caf = Var(initialize = float(data['caf']), within=PositiveReals)\n",
    "    model.caf.fixed = True\n",
    "    \n",
    "\t# Space velocity (flowrate/volume)\n",
    "    model.sv = Var(initialize = float(data['sv']), within=PositiveReals)\n",
    "    model.sv.fixed = True\n",
    "    \n",
    "    # Outlet concentration of each component\n",
    "    model.ca = Var(initialize = 5000.0, within=PositiveReals) \n",
    "    model.cb = Var(initialize = 2000.0, within=PositiveReals) \n",
    "    model.cc = Var(initialize = 2000.0, within=PositiveReals) \n",
    "    model.cd = Var(initialize = 1000.0, within=PositiveReals)\n",
    "    \n",
    "    # Objective\n",
    "    model.obj = Objective(expr = model.cb, sense=maximize)\n",
    "    \n",
    "    # Constraints\n",
    "    model.ca_bal = Constraint(expr = (0 == model.sv * model.caf \\\n",
    "                     - model.sv * model.ca - model.k1 * model.ca \\\n",
    "                     -  2.0 * model.k3 * model.ca ** 2.0))\n",
    "    \n",
    "    model.cb_bal = Constraint(expr=(0 == -model.sv * model.cb \\\n",
    "                     + model.k1 * model.ca - model.k2 * model.cb))\n",
    "    \n",
    "    model.cc_bal = Constraint(expr=(0 == -model.sv * model.cc \\\n",
    "                     + model.k2 * model.cb))\n",
    "    \n",
    "    model.cd_bal = Constraint(expr=(0 == -model.sv * model.cd \\\n",
    "                     + model.k3 * model.ca ** 2.0))\n",
    "    \n",
    "    return model\n",
    "\n",
    "def main():\n",
    "    # For a range of sv values, return ca, cb, cc, and cd\n",
    "    results = []\n",
    "    sv_values = [1.0 + v * 0.05 for v in range(1, 20)]\n",
    "    caf = 10000\n",
    "    for sv in sv_values:\n",
    "        model = reactor_design_model({'caf': caf, 'sv': sv})\n",
    "        solver = SolverFactory('ipopt')\n",
    "        solver.solve(model)\n",
    "        results.append([sv, caf, model.ca(), model.cb(), model.cc(), model.cd()])\n",
    "    \n",
    "    results = pd.DataFrame(results, columns=['sv', 'caf', 'ca', 'cb', 'cc', 'cd'])\n",
    "    print(results)\n",
    "    \n",
    "\n",
    "main()"
   ]
  },
  {
   "cell_type": "markdown",
   "metadata": {},
   "source": [
    "# Jax in a Codespace"
   ]
  },
  {
   "cell_type": "code",
   "execution_count": null,
   "metadata": {},
   "outputs": [],
   "source": [
    "from jax.config import config\n",
    "config.update(\"jax_enable_x64\", True)\n",
    "\n",
    "from jaxlib.xla_extension import DeviceArray\n",
    "DeviceArray.__repr__ = lambda self: str(self)\n",
    "\n",
    "from jax import grad\n",
    "\n",
    "def f(x):\n",
    "    return x**2\n",
    "\n",
    "df = grad(f)\n",
    "\n",
    "df(2.0)  # should be 2 * x"
   ]
  },
  {
   "cell_type": "code",
   "execution_count": null,
   "metadata": {},
   "outputs": [],
   "source": []
  }
 ],
 "metadata": {
  "colab": {
   "collapsed_sections": [],
   "name": "02-integration-1.ipynb",
   "provenance": [],
   "toc_visible": true
  },
  "interpreter": {
   "hash": "d4d1e4263499bec80672ea0156c357c1ee493ec2b1c70f0acce89fc37c4a6abe"
  },
  "kernelspec": {
   "display_name": "Python 3 (ipykernel)",
   "language": "python",
   "name": "python3"
  },
  "language_info": {
   "codemirror_mode": {
    "name": "ipython",
    "version": 3
   },
   "file_extension": ".py",
   "mimetype": "text/x-python",
   "name": "python",
   "nbconvert_exporter": "python",
   "pygments_lexer": "ipython3",
   "version": "3.9.7"
  },
  "org": {
   "KEYWORDS": "integration, trapz, cumtrapz, quad"
  }
 },
 "nbformat": 4,
 "nbformat_minor": 4
}
