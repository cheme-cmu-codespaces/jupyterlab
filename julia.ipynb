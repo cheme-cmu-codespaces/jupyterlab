{
 "cells": [
  {
   "cell_type": "markdown",
   "id": "618a1bc9-6e0e-4290-9792-14cfd711a675",
   "metadata": {},
   "source": [
    "# Using Julia in a Jupyter notebook"
   ]
  },
  {
   "cell_type": "code",
   "execution_count": 3,
   "id": "c4ef7eb4-9e9c-4dbf-a31e-cb25447f7bec",
   "metadata": {},
   "outputs": [
    {
     "name": "stdout",
     "output_type": "stream",
     "text": [
      "Hello World"
     ]
    }
   ],
   "source": [
    "print(\"Hello World\")"
   ]
  },
  {
   "cell_type": "code",
   "execution_count": 2,
   "id": "1a7858cc-02d9-48d9-b3bf-3564f34d2bf0",
   "metadata": {},
   "outputs": [
    {
     "name": "stdout",
     "output_type": "stream",
     "text": [
      "                                                                                \n",
      "                                                                                \n",
      "                                                                                \n",
      "                                                           ..                   \n",
      "                                                         ......                 \n",
      "                                                       ........                 \n",
      "                                                         ......                 \n",
      "                                                      ........ ..   .           \n",
      "                                              ...   .................           \n",
      "                                              ........................  ...     \n",
      "                                              ............................      \n",
      "                                           ..............................       \n",
      "                                            ..............................      \n",
      "                                         ....................................   \n",
      "                                .         ..................................    \n",
      "                           .. ..... .     ..................................    \n",
      "                           ...........   ....................................   \n",
      "                         .............. ....................................    \n",
      "                         ...................................................    \n",
      "                     .....................................................      \n",
      " .......................................................................        \n",
      "                     .....................................................      \n",
      "                         ...................................................    \n",
      "                         .............. ....................................    \n",
      "                           ...........   ....................................   \n",
      "                           .. ..... .     ..................................    \n",
      "                                .         ..................................    \n",
      "                                         ....................................   \n",
      "                                            ..............................      \n",
      "                                           ..............................       \n",
      "                                              ............................      \n",
      "                                              ........................  ...     \n",
      "                                              ...   .................           \n",
      "                                                      ........ ..   .           \n",
      "                                                         ......                 \n",
      "                                                       ........                 \n",
      "                                                         ......                 \n",
      "                                                           ..                   \n",
      "                                                                                \n",
      "                                                                                \n",
      "                                                                                \n"
     ]
    }
   ],
   "source": [
    "function mandelbrot(a) \n",
    "    z = 0\n",
    "    for i=1:50\n",
    "        z = z^2 + a\n",
    "    end\n",
    "    return z\n",
    "end\n",
    "\n",
    "for y=1.0:-0.05:-1.0\n",
    "    for x=-2.0:0.0315:0.5\n",
    "        abs(mandelbrot(complex(x, y))) < 2 ? print(\".\") : print(\" \")\n",
    "    end\n",
    "    println()\n",
    "end"
   ]
  },
  {
   "cell_type": "code",
   "execution_count": 4,
   "id": "553586d3-8e85-497d-b86e-221251dfd808",
   "metadata": {},
   "outputs": [
    {
     "ename": "LoadError",
     "evalue": "\u001b[91mArgumentError: Package Plots not found in current path:\u001b[39m\n\u001b[91m- Run `import Pkg; Pkg.add(\"Plots\")` to install the Plots package.\u001b[39m\n",
     "output_type": "error",
     "traceback": [
      "\u001b[91mArgumentError: Package Plots not found in current path:\u001b[39m\n\u001b[91m- Run `import Pkg; Pkg.add(\"Plots\")` to install the Plots package.\u001b[39m\n",
      "",
      "Stacktrace:",
      " [1] require(::Module, ::Symbol) at ./loading.jl:893",
      " [2] include_string(::Function, ::Module, ::String, ::String) at ./loading.jl:1091"
     ]
    }
   ],
   "source": [
    "using Plots\n",
    "x = 1:10; y = rand(10); # These are the plotting data\n",
    "plot(x, y)"
   ]
  },
  {
   "cell_type": "code",
   "execution_count": null,
   "id": "8d38756b-098b-421b-a5f1-a1eb84f0808f",
   "metadata": {},
   "outputs": [],
   "source": []
  }
 ],
 "metadata": {
  "kernelspec": {
   "display_name": "Julia 1.5.3",
   "language": "julia",
   "name": "julia-1.5"
  },
  "language_info": {
   "file_extension": ".jl",
   "mimetype": "application/julia",
   "name": "julia",
   "version": "1.5.3"
  }
 },
 "nbformat": 4,
 "nbformat_minor": 5
}
